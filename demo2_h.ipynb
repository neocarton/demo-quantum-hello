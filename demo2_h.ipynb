{
 "cells": [
  {
   "cell_type": "code",
   "execution_count": 1,
   "metadata": {},
   "outputs": [
    {
     "name": "stdout",
     "output_type": "stream",
     "text": [
      "Using: qasm_simulator\n"
     ]
    }
   ],
   "source": [
    "from qiskit import (QuantumRegister, ClassicalRegister, QuantumCircuit)\n",
    "from qcomp import (qexec)"
   ]
  },
  {
   "cell_type": "code",
   "execution_count": 2,
   "metadata": {},
   "outputs": [
    {
     "name": "stdout",
     "output_type": "stream",
     "text": [
      "\n",
      "Total count are: {'0': 1000}\n",
      "         ┌───┐┌───┐┌─┐\n",
      "q0_0: |0>┤ H ├┤ H ├┤M├\n",
      "         └───┘└───┘└╥┘\n",
      " c0_0: 0 ═══════════╩═\n",
      "                      \n"
     ]
    }
   ],
   "source": [
    "# Task: Restore |0> from superposition state with double H(x)\n",
    "qr = QuantumRegister(1) # Initailly = |0>\n",
    "cr = ClassicalRegister(1)\n",
    "circuit = QuantumCircuit(qr, cr)\n",
    "circuit.h(qr) # H(qr)\n",
    "circuit.h(qr) # H(qr)\n",
    "circuit.measure(qr, cr)\n",
    "qexec(circuit)"
   ]
  },
  {
   "cell_type": "code",
   "execution_count": 3,
   "metadata": {},
   "outputs": [
    {
     "name": "stdout",
     "output_type": "stream",
     "text": [
      "\n",
      "Total count are: {'1': 1000}\n",
      "         ┌───┐┌───┐┌───┐┌─┐\n",
      "q1_0: |0>┤ X ├┤ H ├┤ H ├┤M├\n",
      "         └───┘└───┘└───┘└╥┘\n",
      " c1_0: 0 ════════════════╩═\n",
      "                           \n"
     ]
    }
   ],
   "source": [
    "# Task: Restore |1> from superposition state with double H(x)\n",
    "qr = QuantumRegister(1) # Initailly = |0>\n",
    "cr = ClassicalRegister(1)\n",
    "circuit = QuantumCircuit(qr, cr)\n",
    "circuit.x(qr) # Not(qr)\n",
    "circuit.h(qr) # H(qr)\n",
    "circuit.h(qr) # H(qr)\n",
    "circuit.measure(qr, cr)\n",
    "qexec(circuit)"
   ]
  },
  {
   "cell_type": "code",
   "execution_count": null,
   "metadata": {},
   "outputs": [],
   "source": []
  }
 ],
 "metadata": {
  "kernelspec": {
   "display_name": "Python 3",
   "language": "python",
   "name": "python3"
  },
  "language_info": {
   "codemirror_mode": {
    "name": "ipython",
    "version": 3
   },
   "file_extension": ".py",
   "mimetype": "text/x-python",
   "name": "python",
   "nbconvert_exporter": "python",
   "pygments_lexer": "ipython3",
   "version": "3.7.4"
  }
 },
 "nbformat": 4,
 "nbformat_minor": 2
}
