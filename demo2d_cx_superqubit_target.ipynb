{
 "cells": [
  {
   "cell_type": "code",
   "execution_count": 1,
   "metadata": {},
   "outputs": [
    {
     "name": "stdout",
     "output_type": "stream",
     "text": [
      "Default backend: statevector_simulator\n"
     ]
    }
   ],
   "source": [
    "%matplotlib widget\n",
    "from qiskit import (QuantumRegister, ClassicalRegister, QuantumCircuit)\n",
    "from qcomp import (qexec)"
   ]
  },
  {
   "cell_type": "code",
   "execution_count": 2,
   "metadata": {},
   "outputs": [
    {
     "name": "stdout",
     "output_type": "stream",
     "text": [
      "                   ┌─┐   \n",
      "q0_0: |0>───────■──┤M├───\n",
      "         ┌───┐┌─┴─┐└╥┘┌─┐\n",
      "q0_1: |0>┤ H ├┤ X ├─╫─┤M├\n",
      "         └───┘└───┘ ║ └╥┘\n",
      " c0_0: 0 ═══════════╩══╬═\n",
      "                       ║ \n",
      " c0_1: 0 ══════════════╩═\n",
      "                         \n",
      "Counts : {'10': 1}\n",
      "State vectors: [0.+0.j 0.+0.j 1.+0.j 0.+0.j]\n"
     ]
    },
    {
     "data": {
      "application/vnd.jupyter.widget-view+json": {
       "model_id": "98fb93a501834fc880ce347a71b3b5fd",
       "version_major": 2,
       "version_minor": 0
      },
      "text/plain": [
       "Canvas(toolbar=Toolbar(toolitems=[('Home', 'Reset original view', 'home', 'home'), ('Back', 'Back to previous …"
      ]
     },
     "metadata": {},
     "output_type": "display_data"
    },
    {
     "data": {
      "application/vnd.jupyter.widget-view+json": {
       "model_id": "2bd3b0ce10a94fa6b55523a8aa005013",
       "version_major": 2,
       "version_minor": 0
      },
      "text/plain": [
       "Canvas(toolbar=Toolbar(toolitems=[('Home', 'Reset original view', 'home', 'home'), ('Back', 'Back to previous …"
      ]
     },
     "metadata": {},
     "output_type": "display_data"
    },
    {
     "data": {
      "application/vnd.jupyter.widget-view+json": {
       "model_id": "29d7364c436d47cb90d00187a59cff4e",
       "version_major": 2,
       "version_minor": 0
      },
      "text/plain": [
       "Canvas(toolbar=Toolbar(toolitems=[('Home', 'Reset original view', 'home', 'home'), ('Back', 'Back to previous …"
      ]
     },
     "metadata": {},
     "output_type": "display_data"
    }
   ],
   "source": [
    "# Task: CNot |00> with control Qubit is in super position state\n",
    "qr = QuantumRegister(2) # Initailly = |00>\n",
    "cr = ClassicalRegister(2)\n",
    "circuit = QuantumCircuit(qr, cr)\n",
    "circuit.h(qr[1])\n",
    "circuit.cx(qr[0], qr[1]) # CNot(low Qubit as control, high Qubit as target)\n",
    "circuit.measure(qr, cr)\n",
    "qexec(circuit)"
   ]
  },
  {
   "cell_type": "code",
   "execution_count": 3,
   "metadata": {},
   "outputs": [
    {
     "name": "stdout",
     "output_type": "stream",
     "text": [
      "         ┌───┐     ┌─┐   \n",
      "q1_0: |0>┤ X ├──■──┤M├───\n",
      "         ├───┤┌─┴─┐└╥┘┌─┐\n",
      "q1_1: |0>┤ H ├┤ X ├─╫─┤M├\n",
      "         └───┘└───┘ ║ └╥┘\n",
      " c1_0: 0 ═══════════╩══╬═\n",
      "                       ║ \n",
      " c1_1: 0 ══════════════╩═\n",
      "                         \n",
      "Counts : {'01': 1}\n",
      "State vectors: [0.+0.j 1.+0.j 0.+0.j 0.+0.j]\n"
     ]
    },
    {
     "data": {
      "application/vnd.jupyter.widget-view+json": {
       "model_id": "9a69b1b825e441928823a060f4a23b22",
       "version_major": 2,
       "version_minor": 0
      },
      "text/plain": [
       "Canvas(toolbar=Toolbar(toolitems=[('Home', 'Reset original view', 'home', 'home'), ('Back', 'Back to previous …"
      ]
     },
     "metadata": {},
     "output_type": "display_data"
    },
    {
     "data": {
      "application/vnd.jupyter.widget-view+json": {
       "model_id": "d3fc961ae23242f8b254196b9ca80906",
       "version_major": 2,
       "version_minor": 0
      },
      "text/plain": [
       "Canvas(toolbar=Toolbar(toolitems=[('Home', 'Reset original view', 'home', 'home'), ('Back', 'Back to previous …"
      ]
     },
     "metadata": {},
     "output_type": "display_data"
    },
    {
     "data": {
      "application/vnd.jupyter.widget-view+json": {
       "model_id": "4f41c5746aa7425c887faba80042bb86",
       "version_major": 2,
       "version_minor": 0
      },
      "text/plain": [
       "Canvas(toolbar=Toolbar(toolitems=[('Home', 'Reset original view', 'home', 'home'), ('Back', 'Back to previous …"
      ]
     },
     "metadata": {},
     "output_type": "display_data"
    }
   ],
   "source": [
    "# Task: CNot |01> with control Qubit is in super position state\n",
    "qr = QuantumRegister(2) # Initailly = |00>\n",
    "cr = ClassicalRegister(2)\n",
    "circuit = QuantumCircuit(qr, cr)\n",
    "circuit.x(qr[0])\n",
    "circuit.h(qr[1])\n",
    "circuit.cx(qr[0], qr[1]) # CNot(low Qubit as control, high Qubit as target)\n",
    "circuit.measure(qr, cr)\n",
    "qexec(circuit)"
   ]
  },
  {
   "cell_type": "code",
   "execution_count": null,
   "metadata": {},
   "outputs": [],
   "source": []
  }
 ],
 "metadata": {
  "kernelspec": {
   "display_name": "Python 3",
   "language": "python",
   "name": "python3"
  },
  "language_info": {
   "codemirror_mode": {
    "name": "ipython",
    "version": 3
   },
   "file_extension": ".py",
   "mimetype": "text/x-python",
   "name": "python",
   "nbconvert_exporter": "python",
   "pygments_lexer": "ipython3",
   "version": "3.7.4"
  }
 },
 "nbformat": 4,
 "nbformat_minor": 2
}
