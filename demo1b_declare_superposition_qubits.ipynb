{
 "cells": [
  {
   "cell_type": "code",
   "execution_count": 1,
   "metadata": {},
   "outputs": [
    {
     "name": "stdout",
     "output_type": "stream",
     "text": [
      "Using: qasm_simulator\n"
     ]
    }
   ],
   "source": [
    "from qiskit import (QuantumRegister, ClassicalRegister, QuantumCircuit)\n",
    "from qcomp import (qexec)"
   ]
  },
  {
   "cell_type": "code",
   "execution_count": 2,
   "metadata": {},
   "outputs": [
    {
     "name": "stdout",
     "output_type": "stream",
     "text": [
      "\n",
      "Total count are: {'0': 504, '1': 496}\n",
      "         ┌───┐┌─┐\n",
      "q0_0: |0>┤ H ├┤M├\n",
      "         └───┘└╥┘\n",
      " c0_0: 0 ══════╩═\n",
      "                 \n"
     ]
    }
   ],
   "source": [
    "# Task: Declare a superposition Qubit from |0>\n",
    "qr = QuantumRegister(1) # Initailly = |0>\n",
    "cr = ClassicalRegister(1)\n",
    "circuit = QuantumCircuit(qr, cr)\n",
    "circuit.h(qr) # H(qr)\n",
    "circuit.measure(qr, cr)\n",
    "qexec(circuit)"
   ]
  },
  {
   "cell_type": "code",
   "execution_count": 3,
   "metadata": {},
   "outputs": [
    {
     "name": "stdout",
     "output_type": "stream",
     "text": [
      "\n",
      "Total count are: {'0': 495, '1': 505}\n",
      "         ┌───┐┌───┐┌─┐\n",
      "q1_0: |0>┤ X ├┤ H ├┤M├\n",
      "         └───┘└───┘└╥┘\n",
      " c1_0: 0 ═══════════╩═\n",
      "                      \n"
     ]
    }
   ],
   "source": [
    "# Task: Declare a superposition Qubit from |1>\n",
    "qr = QuantumRegister(1) # Initailly = |0>\n",
    "cr = ClassicalRegister(1)\n",
    "circuit = QuantumCircuit(qr, cr)\n",
    "circuit.x(qr) # Not(qr)\n",
    "circuit.h(qr) # H(qr)\n",
    "circuit.measure(qr, cr)\n",
    "qexec(circuit)"
   ]
  },
  {
   "cell_type": "code",
   "execution_count": 4,
   "metadata": {},
   "outputs": [
    {
     "name": "stdout",
     "output_type": "stream",
     "text": [
      "\n",
      "Total count are: {'00': 483, '01': 517}\n",
      "         ┌───┐┌─┐\n",
      "q2_0: |0>┤ H ├┤M├\n",
      "         └┬─┬┘└╥┘\n",
      "q2_1: |0>─┤M├──╫─\n",
      "          └╥┘  ║ \n",
      " c2_0: 0 ══╬═══╩═\n",
      "           ║     \n",
      " c2_1: 0 ══╩═════\n",
      "                 \n"
     ]
    }
   ],
   "source": [
    "# Task: Declare 2 Qubits (with low Qubit in superposition) from |00>\n",
    "qr = QuantumRegister(2) # Initailly = |00>\n",
    "cr = ClassicalRegister(2)\n",
    "circuit = QuantumCircuit(qr, cr)\n",
    "circuit.h(qr[0]) # H(qr)\n",
    "circuit.measure(qr, cr)\n",
    "qexec(circuit)"
   ]
  },
  {
   "cell_type": "code",
   "execution_count": 5,
   "metadata": {},
   "outputs": [
    {
     "name": "stdout",
     "output_type": "stream",
     "text": [
      "\n",
      "Total count are: {'00': 509, '10': 491}\n",
      "              ┌─┐   \n",
      "q3_0: |0>─────┤M├───\n",
      "         ┌───┐└╥┘┌─┐\n",
      "q3_1: |0>┤ H ├─╫─┤M├\n",
      "         └───┘ ║ └╥┘\n",
      " c3_0: 0 ══════╩══╬═\n",
      "                  ║ \n",
      " c3_1: 0 ═════════╩═\n",
      "                    \n"
     ]
    }
   ],
   "source": [
    "# Task: Declare 2 Qubits (with high Qubit in superposition) from |00>\n",
    "qr = QuantumRegister(2) # Initailly = |00>\n",
    "cr = ClassicalRegister(2)\n",
    "circuit = QuantumCircuit(qr, cr)\n",
    "circuit.h(qr[1]) # H(qr)\n",
    "circuit.measure(qr, cr)\n",
    "qexec(circuit)"
   ]
  },
  {
   "cell_type": "code",
   "execution_count": 6,
   "metadata": {},
   "outputs": [
    {
     "name": "stdout",
     "output_type": "stream",
     "text": [
      "\n",
      "Total count are: {'00': 251, '11': 251, '01': 253, '10': 245}\n",
      "         ┌───┐┌─┐   \n",
      "q4_0: |0>┤ H ├┤M├───\n",
      "         ├───┤└╥┘┌─┐\n",
      "q4_1: |0>┤ H ├─╫─┤M├\n",
      "         └───┘ ║ └╥┘\n",
      " c4_0: 0 ══════╩══╬═\n",
      "                  ║ \n",
      " c4_1: 0 ═════════╩═\n",
      "                    \n"
     ]
    }
   ],
   "source": [
    "# Task: Declare 2 superposition Qubits from |00>\n",
    "qr = QuantumRegister(2) # Initailly = |00>\n",
    "cr = ClassicalRegister(2)\n",
    "circuit = QuantumCircuit(qr, cr)\n",
    "circuit.h(qr[0]) # H(qr)\n",
    "circuit.h(qr[1]) # H(qr)\n",
    "circuit.measure(qr, cr)\n",
    "qexec(circuit)"
   ]
  },
  {
   "cell_type": "code",
   "execution_count": 7,
   "metadata": {},
   "outputs": [
    {
     "name": "stdout",
     "output_type": "stream",
     "text": [
      "\n",
      "Total count are: {'000': 262, '011': 249, '001': 245, '010': 244}\n",
      "         ┌───┐┌─┐   \n",
      "q5_0: |0>┤ H ├┤M├───\n",
      "         ├───┤└╥┘┌─┐\n",
      "q5_1: |0>┤ H ├─╫─┤M├\n",
      "         └┬─┬┘ ║ └╥┘\n",
      "q5_2: |0>─┤M├──╫──╫─\n",
      "          └╥┘  ║  ║ \n",
      " c5_0: 0 ══╬═══╩══╬═\n",
      "           ║      ║ \n",
      " c5_1: 0 ══╬══════╩═\n",
      "           ║        \n",
      " c5_2: 0 ══╩════════\n",
      "                    \n"
     ]
    }
   ],
   "source": [
    "# Task: Declare 3 Qubits (with 2 Qubits in superposition) from |000>\n",
    "qr = QuantumRegister(3) # Initailly = |000>\n",
    "cr = ClassicalRegister(3)\n",
    "circuit = QuantumCircuit(qr, cr)\n",
    "circuit.h(qr[0]) # H(qr)\n",
    "circuit.h(qr[1]) # H(qr)\n",
    "circuit.measure(qr, cr)\n",
    "qexec(circuit)"
   ]
  },
  {
   "cell_type": "code",
   "execution_count": 8,
   "metadata": {},
   "outputs": [
    {
     "name": "stdout",
     "output_type": "stream",
     "text": [
      "\n",
      "Total count are: {'000': 124, '110': 131, '010': 116, '101': 121, '100': 133, '111': 135, '011': 123, '001': 117}\n",
      "         ┌───┐┌─┐      \n",
      "q6_0: |0>┤ H ├┤M├──────\n",
      "         ├───┤└╥┘┌─┐   \n",
      "q6_1: |0>┤ H ├─╫─┤M├───\n",
      "         ├───┤ ║ └╥┘┌─┐\n",
      "q6_2: |0>┤ H ├─╫──╫─┤M├\n",
      "         └───┘ ║  ║ └╥┘\n",
      " c6_0: 0 ══════╩══╬══╬═\n",
      "                  ║  ║ \n",
      " c6_1: 0 ═════════╩══╬═\n",
      "                     ║ \n",
      " c6_2: 0 ════════════╩═\n",
      "                       \n"
     ]
    }
   ],
   "source": [
    "# Task: Declare 3 superposition Qubits from |000>\n",
    "qr = QuantumRegister(3) # Initailly = |000>\n",
    "cr = ClassicalRegister(3)\n",
    "circuit = QuantumCircuit(qr, cr)\n",
    "circuit.h(qr[0]) # H(qr)\n",
    "circuit.h(qr[1]) # H(qr)\n",
    "circuit.h(qr[2]) # H(qr)\n",
    "circuit.measure(qr, cr)\n",
    "qexec(circuit)"
   ]
  },
  {
   "cell_type": "code",
   "execution_count": null,
   "metadata": {},
   "outputs": [],
   "source": []
  }
 ],
 "metadata": {
  "kernelspec": {
   "display_name": "Python 3",
   "language": "python",
   "name": "python3"
  },
  "language_info": {
   "codemirror_mode": {
    "name": "ipython",
    "version": 3
   },
   "file_extension": ".py",
   "mimetype": "text/x-python",
   "name": "python",
   "nbconvert_exporter": "python",
   "pygments_lexer": "ipython3",
   "version": "3.7.4"
  }
 },
 "nbformat": 4,
 "nbformat_minor": 2
}
