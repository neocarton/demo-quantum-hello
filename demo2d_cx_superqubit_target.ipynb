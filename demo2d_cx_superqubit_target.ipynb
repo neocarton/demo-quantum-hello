{
 "cells": [
  {
   "cell_type": "code",
   "execution_count": 1,
   "metadata": {},
   "outputs": [
    {
     "name": "stdout",
     "output_type": "stream",
     "text": [
      "Using: qasm_simulator\n"
     ]
    }
   ],
   "source": [
    "from qiskit import (QuantumRegister, ClassicalRegister, QuantumCircuit)\n",
    "from qcomp import (qexec)"
   ]
  },
  {
   "cell_type": "code",
   "execution_count": 2,
   "metadata": {},
   "outputs": [
    {
     "name": "stdout",
     "output_type": "stream",
     "text": [
      "\n",
      "Total count are: {'00': 503, '10': 497}\n",
      "                   ┌─┐   \n",
      "q0_0: |0>───────■──┤M├───\n",
      "         ┌───┐┌─┴─┐└╥┘┌─┐\n",
      "q0_1: |0>┤ H ├┤ X ├─╫─┤M├\n",
      "         └───┘└───┘ ║ └╥┘\n",
      " c0_0: 0 ═══════════╩══╬═\n",
      "                       ║ \n",
      " c0_1: 0 ══════════════╩═\n",
      "                         \n"
     ]
    }
   ],
   "source": [
    "# Task: CNot |00> with control Qubit is in super position state\n",
    "qr = QuantumRegister(2) # Initailly = |00>\n",
    "cr = ClassicalRegister(2)\n",
    "circuit = QuantumCircuit(qr, cr)\n",
    "circuit.h(qr[1])\n",
    "circuit.cx(qr[0], qr[1]) # CNot(low Qubit as control, high Qubit as target)\n",
    "circuit.measure(qr, cr)\n",
    "qexec(circuit)"
   ]
  },
  {
   "cell_type": "code",
   "execution_count": 3,
   "metadata": {},
   "outputs": [
    {
     "name": "stdout",
     "output_type": "stream",
     "text": [
      "\n",
      "Total count are: {'11': 487, '01': 513}\n",
      "         ┌───┐     ┌─┐   \n",
      "q1_0: |0>┤ X ├──■──┤M├───\n",
      "         ├───┤┌─┴─┐└╥┘┌─┐\n",
      "q1_1: |0>┤ H ├┤ X ├─╫─┤M├\n",
      "         └───┘└───┘ ║ └╥┘\n",
      " c1_0: 0 ═══════════╩══╬═\n",
      "                       ║ \n",
      " c1_1: 0 ══════════════╩═\n",
      "                         \n"
     ]
    }
   ],
   "source": [
    "# Task: CNot |01> with control Qubit is in super position state\n",
    "qr = QuantumRegister(2) # Initailly = |00>\n",
    "cr = ClassicalRegister(2)\n",
    "circuit = QuantumCircuit(qr, cr)\n",
    "circuit.x(qr[0])\n",
    "circuit.h(qr[1])\n",
    "circuit.cx(qr[0], qr[1]) # CNot(low Qubit as control, high Qubit as target)\n",
    "circuit.measure(qr, cr)\n",
    "qexec(circuit)"
   ]
  },
  {
   "cell_type": "code",
   "execution_count": null,
   "metadata": {},
   "outputs": [],
   "source": []
  }
 ],
 "metadata": {
  "kernelspec": {
   "display_name": "Python 3",
   "language": "python",
   "name": "python3"
  },
  "language_info": {
   "codemirror_mode": {
    "name": "ipython",
    "version": 3
   },
   "file_extension": ".py",
   "mimetype": "text/x-python",
   "name": "python",
   "nbconvert_exporter": "python",
   "pygments_lexer": "ipython3",
   "version": "3.7.4"
  }
 },
 "nbformat": 4,
 "nbformat_minor": 2
}
