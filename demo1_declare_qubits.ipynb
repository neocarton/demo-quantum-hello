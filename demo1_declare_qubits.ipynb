{
 "cells": [
  {
   "cell_type": "code",
   "execution_count": 1,
   "metadata": {},
   "outputs": [
    {
     "name": "stdout",
     "output_type": "stream",
     "text": [
      "Using: qasm_simulator\n"
     ]
    }
   ],
   "source": [
    "from qiskit import (QuantumRegister, ClassicalRegister, QuantumCircuit)\n",
    "from qcomp import (qexec)"
   ]
  },
  {
   "cell_type": "code",
   "execution_count": 2,
   "metadata": {},
   "outputs": [
    {
     "name": "stdout",
     "output_type": "stream",
     "text": [
      "\n",
      "Total count are: {'0': 1000}\n",
      "         ┌─┐\n",
      "q0_0: |0>┤M├\n",
      "         └╥┘\n",
      " c0_0: 0 ═╩═\n",
      "            \n"
     ]
    }
   ],
   "source": [
    "# Task: Declare a Qubit |0>\n",
    "qr = QuantumRegister(1) # Initailly = |0>\n",
    "cr = ClassicalRegister(1)\n",
    "circuit = QuantumCircuit(qr, cr)\n",
    "circuit.measure(qr, cr)\n",
    "qexec(circuit)"
   ]
  },
  {
   "cell_type": "code",
   "execution_count": 3,
   "metadata": {},
   "outputs": [
    {
     "name": "stdout",
     "output_type": "stream",
     "text": [
      "\n",
      "Total count are: {'1': 1000}\n",
      "         ┌───┐┌─┐\n",
      "q1_0: |0>┤ X ├┤M├\n",
      "         └───┘└╥┘\n",
      " c1_0: 0 ══════╩═\n",
      "                 \n"
     ]
    }
   ],
   "source": [
    "# Task: Decalre a Qubit |1>\n",
    "qr = QuantumRegister(1) # Initailly = |0>\n",
    "cr = ClassicalRegister(1)\n",
    "circuit = QuantumCircuit(qr, cr)\n",
    "circuit.x(qr) # Not(qr)\n",
    "circuit.measure(qr, cr)\n",
    "qexec(circuit)"
   ]
  },
  {
   "cell_type": "code",
   "execution_count": 4,
   "metadata": {},
   "outputs": [
    {
     "name": "stdout",
     "output_type": "stream",
     "text": [
      "\n",
      "Total count are: {'01': 1000}\n",
      "         ┌───┐┌─┐\n",
      "q2_0: |0>┤ X ├┤M├\n",
      "         └┬─┬┘└╥┘\n",
      "q2_1: |0>─┤M├──╫─\n",
      "          └╥┘  ║ \n",
      " c2_0: 0 ══╬═══╩═\n",
      "           ║     \n",
      " c2_1: 0 ══╩═════\n",
      "                 \n"
     ]
    }
   ],
   "source": [
    "# Task: Declare 2 Qubits |01>\n",
    "qr = QuantumRegister(2) # Initailly = |0>\n",
    "cr = ClassicalRegister(2)\n",
    "circuit = QuantumCircuit(qr, cr)\n",
    "circuit.x(qr[0]) # Not(qr)\n",
    "circuit.measure(qr, cr)\n",
    "qexec(circuit)"
   ]
  },
  {
   "cell_type": "code",
   "execution_count": 5,
   "metadata": {},
   "outputs": [
    {
     "name": "stdout",
     "output_type": "stream",
     "text": [
      "\n",
      "Total count are: {'110': 1000}\n",
      "              ┌─┐      \n",
      "q3_0: |0>─────┤M├──────\n",
      "         ┌───┐└╥┘┌─┐   \n",
      "q3_1: |0>┤ X ├─╫─┤M├───\n",
      "         ├───┤ ║ └╥┘┌─┐\n",
      "q3_2: |0>┤ X ├─╫──╫─┤M├\n",
      "         └───┘ ║  ║ └╥┘\n",
      " c3_0: 0 ══════╩══╬══╬═\n",
      "                  ║  ║ \n",
      " c3_1: 0 ═════════╩══╬═\n",
      "                     ║ \n",
      " c3_2: 0 ════════════╩═\n",
      "                       \n"
     ]
    }
   ],
   "source": [
    "# Task: Declare 3 Qubits |110>\n",
    "qr = QuantumRegister(3) # Initailly = |0>\n",
    "cr = ClassicalRegister(3)\n",
    "circuit = QuantumCircuit(qr, cr)\n",
    "circuit.x(qr[1]) # Not(qr)\n",
    "circuit.x(qr[2]) # Not(qr)\n",
    "circuit.measure(qr, cr)\n",
    "qexec(circuit)"
   ]
  },
  {
   "cell_type": "code",
   "execution_count": null,
   "metadata": {},
   "outputs": [],
   "source": []
  }
 ],
 "metadata": {
  "kernelspec": {
   "display_name": "Python 3",
   "language": "python",
   "name": "python3"
  },
  "language_info": {
   "codemirror_mode": {
    "name": "ipython",
    "version": 3
   },
   "file_extension": ".py",
   "mimetype": "text/x-python",
   "name": "python",
   "nbconvert_exporter": "python",
   "pygments_lexer": "ipython3",
   "version": "3.7.4"
  }
 },
 "nbformat": 4,
 "nbformat_minor": 2
}
