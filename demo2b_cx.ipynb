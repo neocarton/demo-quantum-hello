{
 "cells": [
  {
   "cell_type": "code",
   "execution_count": 1,
   "metadata": {},
   "outputs": [
    {
     "name": "stdout",
     "output_type": "stream",
     "text": [
      "Default backend: statevector_simulator\n"
     ]
    }
   ],
   "source": [
    "%matplotlib widget\n",
    "from qiskit import (QuantumRegister, ClassicalRegister, QuantumCircuit)\n",
    "from qcomp import (qexec)"
   ]
  },
  {
   "cell_type": "code",
   "execution_count": 2,
   "metadata": {},
   "outputs": [
    {
     "name": "stdout",
     "output_type": "stream",
     "text": [
      "              ┌─┐   \n",
      "q0_0: |0>──■──┤M├───\n",
      "         ┌─┴─┐└╥┘┌─┐\n",
      "q0_1: |0>┤ X ├─╫─┤M├\n",
      "         └───┘ ║ └╥┘\n",
      " c0_0: 0 ══════╩══╬═\n",
      "                  ║ \n",
      " c0_1: 0 ═════════╩═\n",
      "                    \n",
      "Counts : {'00': 1}\n",
      "State vectors: [1.+0.j 0.+0.j 0.+0.j 0.+0.j]\n"
     ]
    },
    {
     "data": {
      "application/vnd.jupyter.widget-view+json": {
       "model_id": "a3c3b538134e4e108b2dceb2d1a80bf9",
       "version_major": 2,
       "version_minor": 0
      },
      "text/plain": [
       "Canvas(toolbar=Toolbar(toolitems=[('Home', 'Reset original view', 'home', 'home'), ('Back', 'Back to previous …"
      ]
     },
     "metadata": {},
     "output_type": "display_data"
    },
    {
     "data": {
      "application/vnd.jupyter.widget-view+json": {
       "model_id": "ab20147e78a14047a2bf0e6e3df03c11",
       "version_major": 2,
       "version_minor": 0
      },
      "text/plain": [
       "Canvas(toolbar=Toolbar(toolitems=[('Home', 'Reset original view', 'home', 'home'), ('Back', 'Back to previous …"
      ]
     },
     "metadata": {},
     "output_type": "display_data"
    },
    {
     "data": {
      "application/vnd.jupyter.widget-view+json": {
       "model_id": "8dd4d68ae2694b488a6d86005514fb7a",
       "version_major": 2,
       "version_minor": 0
      },
      "text/plain": [
       "Canvas(toolbar=Toolbar(toolitems=[('Home', 'Reset original view', 'home', 'home'), ('Back', 'Back to previous …"
      ]
     },
     "metadata": {},
     "output_type": "display_data"
    }
   ],
   "source": [
    "# Task: CNot |00>\n",
    "qr = QuantumRegister(2) # Initailly = |00>\n",
    "cr = ClassicalRegister(2)\n",
    "circuit = QuantumCircuit(qr, cr)\n",
    "circuit.cx(qr[0], qr[1]) # CNot(low Qubit as control, high Qubit as target)\n",
    "circuit.measure(qr, cr)\n",
    "qexec(circuit)"
   ]
  },
  {
   "cell_type": "code",
   "execution_count": 3,
   "metadata": {},
   "outputs": [
    {
     "name": "stdout",
     "output_type": "stream",
     "text": [
      "                   ┌─┐   \n",
      "q1_0: |0>───────■──┤M├───\n",
      "         ┌───┐┌─┴─┐└╥┘┌─┐\n",
      "q1_1: |0>┤ X ├┤ X ├─╫─┤M├\n",
      "         └───┘└───┘ ║ └╥┘\n",
      " c1_0: 0 ═══════════╩══╬═\n",
      "                       ║ \n",
      " c1_1: 0 ══════════════╩═\n",
      "                         \n",
      "Counts : {'10': 1}\n",
      "State vectors: [0.+0.j 0.+0.j 1.+0.j 0.+0.j]\n"
     ]
    },
    {
     "data": {
      "application/vnd.jupyter.widget-view+json": {
       "model_id": "3e193a5554804800921f5a50106933cb",
       "version_major": 2,
       "version_minor": 0
      },
      "text/plain": [
       "Canvas(toolbar=Toolbar(toolitems=[('Home', 'Reset original view', 'home', 'home'), ('Back', 'Back to previous …"
      ]
     },
     "metadata": {},
     "output_type": "display_data"
    },
    {
     "data": {
      "application/vnd.jupyter.widget-view+json": {
       "model_id": "a418d38ad9a54862831c69585f4697da",
       "version_major": 2,
       "version_minor": 0
      },
      "text/plain": [
       "Canvas(toolbar=Toolbar(toolitems=[('Home', 'Reset original view', 'home', 'home'), ('Back', 'Back to previous …"
      ]
     },
     "metadata": {},
     "output_type": "display_data"
    },
    {
     "data": {
      "application/vnd.jupyter.widget-view+json": {
       "model_id": "0470b8e6fb634559a64efa569fd185fc",
       "version_major": 2,
       "version_minor": 0
      },
      "text/plain": [
       "Canvas(toolbar=Toolbar(toolitems=[('Home', 'Reset original view', 'home', 'home'), ('Back', 'Back to previous …"
      ]
     },
     "metadata": {},
     "output_type": "display_data"
    }
   ],
   "source": [
    "# Task: CNot |10>\n",
    "qr = QuantumRegister(2) # Initailly = |00>\n",
    "cr = ClassicalRegister(2)\n",
    "circuit = QuantumCircuit(qr, cr)\n",
    "circuit.x(qr[1])\n",
    "circuit.cx(qr[0], qr[1]) # CNot(low Qubit as control, high Qubit as target)\n",
    "circuit.measure(qr, cr)\n",
    "qexec(circuit)"
   ]
  },
  {
   "cell_type": "code",
   "execution_count": 4,
   "metadata": {},
   "outputs": [
    {
     "name": "stdout",
     "output_type": "stream",
     "text": [
      "         ┌───┐     ┌─┐   \n",
      "q2_0: |0>┤ X ├──■──┤M├───\n",
      "         └───┘┌─┴─┐└╥┘┌─┐\n",
      "q2_1: |0>─────┤ X ├─╫─┤M├\n",
      "              └───┘ ║ └╥┘\n",
      " c2_0: 0 ═══════════╩══╬═\n",
      "                       ║ \n",
      " c2_1: 0 ══════════════╩═\n",
      "                         \n",
      "Counts : {'11': 1}\n",
      "State vectors: [0.+0.j 0.+0.j 0.+0.j 1.+0.j]\n"
     ]
    },
    {
     "data": {
      "application/vnd.jupyter.widget-view+json": {
       "model_id": "3dd57e482aab412a869195cf7da94659",
       "version_major": 2,
       "version_minor": 0
      },
      "text/plain": [
       "Canvas(toolbar=Toolbar(toolitems=[('Home', 'Reset original view', 'home', 'home'), ('Back', 'Back to previous …"
      ]
     },
     "metadata": {},
     "output_type": "display_data"
    },
    {
     "data": {
      "application/vnd.jupyter.widget-view+json": {
       "model_id": "8c2b9156bb3a4b3f8b04050cb8405198",
       "version_major": 2,
       "version_minor": 0
      },
      "text/plain": [
       "Canvas(toolbar=Toolbar(toolitems=[('Home', 'Reset original view', 'home', 'home'), ('Back', 'Back to previous …"
      ]
     },
     "metadata": {},
     "output_type": "display_data"
    },
    {
     "data": {
      "application/vnd.jupyter.widget-view+json": {
       "model_id": "e567c883ec914b8e9a7091d198cd3979",
       "version_major": 2,
       "version_minor": 0
      },
      "text/plain": [
       "Canvas(toolbar=Toolbar(toolitems=[('Home', 'Reset original view', 'home', 'home'), ('Back', 'Back to previous …"
      ]
     },
     "metadata": {},
     "output_type": "display_data"
    }
   ],
   "source": [
    "# Task: CNot |01>\n",
    "qr = QuantumRegister(2) # Initailly = |00>\n",
    "cr = ClassicalRegister(2)\n",
    "circuit = QuantumCircuit(qr, cr)\n",
    "circuit.x(qr[0])\n",
    "circuit.cx(qr[0], qr[1]) # CNot(low Qubit as control, high Qubit as target)\n",
    "circuit.measure(qr, cr)\n",
    "qexec(circuit)"
   ]
  },
  {
   "cell_type": "code",
   "execution_count": 5,
   "metadata": {},
   "outputs": [
    {
     "name": "stdout",
     "output_type": "stream",
     "text": [
      "         ┌───┐     ┌─┐   \n",
      "q3_0: |0>┤ X ├──■──┤M├───\n",
      "         ├───┤┌─┴─┐└╥┘┌─┐\n",
      "q3_1: |0>┤ X ├┤ X ├─╫─┤M├\n",
      "         └───┘└───┘ ║ └╥┘\n",
      " c3_0: 0 ═══════════╩══╬═\n",
      "                       ║ \n",
      " c3_1: 0 ══════════════╩═\n",
      "                         \n",
      "Counts : {'01': 1}\n",
      "State vectors: [0.+0.j 1.+0.j 0.+0.j 0.+0.j]\n"
     ]
    },
    {
     "data": {
      "application/vnd.jupyter.widget-view+json": {
       "model_id": "cb32051b13d04700802d4e736d2415c3",
       "version_major": 2,
       "version_minor": 0
      },
      "text/plain": [
       "Canvas(toolbar=Toolbar(toolitems=[('Home', 'Reset original view', 'home', 'home'), ('Back', 'Back to previous …"
      ]
     },
     "metadata": {},
     "output_type": "display_data"
    },
    {
     "data": {
      "application/vnd.jupyter.widget-view+json": {
       "model_id": "b58ce48c3c584332854745037255b318",
       "version_major": 2,
       "version_minor": 0
      },
      "text/plain": [
       "Canvas(toolbar=Toolbar(toolitems=[('Home', 'Reset original view', 'home', 'home'), ('Back', 'Back to previous …"
      ]
     },
     "metadata": {},
     "output_type": "display_data"
    },
    {
     "data": {
      "application/vnd.jupyter.widget-view+json": {
       "model_id": "f75f124e72464f4681bdf2ad9eb31947",
       "version_major": 2,
       "version_minor": 0
      },
      "text/plain": [
       "Canvas(toolbar=Toolbar(toolitems=[('Home', 'Reset original view', 'home', 'home'), ('Back', 'Back to previous …"
      ]
     },
     "metadata": {},
     "output_type": "display_data"
    }
   ],
   "source": [
    "# Task: CNot |01>\n",
    "qr = QuantumRegister(2) # Initailly = |00>\n",
    "cr = ClassicalRegister(2)\n",
    "circuit = QuantumCircuit(qr, cr)\n",
    "circuit.x(qr[0])\n",
    "circuit.x(qr[1])\n",
    "circuit.cx(qr[0], qr[1]) # CNot(low Qubit as control, high Qubit as target)\n",
    "circuit.measure(qr, cr)\n",
    "qexec(circuit)"
   ]
  },
  {
   "cell_type": "code",
   "execution_count": null,
   "metadata": {},
   "outputs": [],
   "source": []
  }
 ],
 "metadata": {
  "kernelspec": {
   "display_name": "Python 3",
   "language": "python",
   "name": "python3"
  },
  "language_info": {
   "codemirror_mode": {
    "name": "ipython",
    "version": 3
   },
   "file_extension": ".py",
   "mimetype": "text/x-python",
   "name": "python",
   "nbconvert_exporter": "python",
   "pygments_lexer": "ipython3",
   "version": "3.7.4"
  }
 },
 "nbformat": 4,
 "nbformat_minor": 2
}
